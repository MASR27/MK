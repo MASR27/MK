{
 "cells": [
  {
   "cell_type": "code",
   "execution_count": 1,
   "id": "8394bff1-4e4e-437a-a97a-f5b9896fb6f1",
   "metadata": {
    "tags": []
   },
   "outputs": [
    {
     "data": {
      "text/html": [
       "\n",
       "<style>\n",
       "  .menu {\n",
       "    display: flex;\n",
       "    justify-content: space-between;\n",
       "    align-items: center;\n",
       "    padding: 10px;\n",
       "    background-color: #f2f2f2;\n",
       "  }\n",
       "  \n",
       "  .menu ul {\n",
       "    list-style: none;\n",
       "    margin: 0;\n",
       "    padding: 0;\n",
       "    display: flex;\n",
       "  }\n",
       "  \n",
       "  .menu ul li {\n",
       "    margin: 0 10px;\n",
       "    font-size: 18px;\n",
       "    font-weight: bold;\n",
       "    cursor: pointer;\n",
       "  }\n",
       "  \n",
       "  .menu ul li:hover {\n",
       "    color: #ff0000;\n",
       "  }\n",
       "</style>\n",
       "\n",
       "<div class=\"menu\">\n",
       "  <h2>ISO 10012:2003 Measurement Management System</h2>\n",
       "  <ul>\n",
       "    <li>Planning</li>\n",
       "    <li>Performance</li>\n",
       "    <li>Analysis</li>\n",
       "  </ul>\n",
       "</div>\n"
      ],
      "text/plain": [
       "<IPython.core.display.HTML object>"
      ]
     },
     "metadata": {},
     "output_type": "display_data"
    },
    {
     "data": {
      "text/markdown": [
       "\n",
       "# Planning\n",
       "\n",
       "## Quality Policy\n",
       "\n",
       "## Quality Objectives\n",
       "\n",
       "## Management Review\n"
      ],
      "text/plain": [
       "<IPython.core.display.Markdown object>"
      ]
     },
     "metadata": {},
     "output_type": "display_data"
    },
    {
     "data": {
      "text/markdown": [
       "\n",
       "# Performance\n",
       "\n",
       "## Measurement Process\n",
       "\n",
       "## Measurement Equipment\n",
       "\n",
       "## Measurement Traceability\n"
      ],
      "text/plain": [
       "<IPython.core.display.Markdown object>"
      ]
     },
     "metadata": {},
     "output_type": "display_data"
    },
    {
     "data": {
      "text/markdown": [
       "\n",
       "# Analysis\n",
       "\n",
       "## Data Analysis\n",
       "\n",
       "## Nonconformity Management\n",
       "\n",
       "## Corrective and Preventive Action\n"
      ],
      "text/plain": [
       "<IPython.core.display.Markdown object>"
      ]
     },
     "metadata": {},
     "output_type": "display_data"
    },
    {
     "name": "stdout",
     "output_type": "stream",
     "text": [
      "[main 7fa4a5f] Added web menu and web page for ISO 10012:2003 measurement management system\n",
      " 3 files changed, 2 insertions(+), 1175 deletions(-)\n",
      " delete mode 100644 .ipynb_checkpoints/Untitled1-checkpoint.ipynb\n",
      " delete mode 100644 Untitled1.ipynb\n",
      "Enumerating objects: 5, done.\n",
      "Counting objects: 100% (5/5), done.\n",
      "Delta compression using up to 4 threads\n",
      "Compressing objects: 100% (3/3), done.\n",
      "Writing objects: 100% (3/3), 401 bytes | 401.00 KiB/s, done.\n",
      "Total 3 (delta 1), reused 0 (delta 0), pack-reused 0\n",
      "remote: Resolving deltas: 100% (1/1), completed with 1 local object.\u001b[K\n",
      "To https://github.com/MASR27/MK\n",
      "   58c6f9a..7fa4a5f  main -> main\n"
     ]
    }
   ],
   "source": [
    "# Import necessary libraries\n",
    "import pandas as pd\n",
    "import matplotlib.pyplot as plt\n",
    "import numpy as np\n",
    "from IPython.display import display, HTML, Markdown\n",
    "\n",
    "# Define the sections of the measurement management system\n",
    "planning = ['Quality policy', 'Quality objectives', 'Management review']\n",
    "performance = ['Measurement process', 'Measurement equipment', 'Measurement traceability']\n",
    "analysis = ['Data analysis', 'Nonconformity management', 'Corrective and preventive action']\n",
    "\n",
    "# Define the HTML code for the menu\n",
    "menu_html = '''\n",
    "<style>\n",
    "  .menu {\n",
    "    display: flex;\n",
    "    justify-content: space-between;\n",
    "    align-items: center;\n",
    "    padding: 10px;\n",
    "    background-color: #f2f2f2;\n",
    "  }\n",
    "  \n",
    "  .menu ul {\n",
    "    list-style: none;\n",
    "    margin: 0;\n",
    "    padding: 0;\n",
    "    display: flex;\n",
    "  }\n",
    "  \n",
    "  .menu ul li {\n",
    "    margin: 0 10px;\n",
    "    font-size: 18px;\n",
    "    font-weight: bold;\n",
    "    cursor: pointer;\n",
    "  }\n",
    "  \n",
    "  .menu ul li:hover {\n",
    "    color: #ff0000;\n",
    "  }\n",
    "</style>\n",
    "\n",
    "<div class=\"menu\">\n",
    "  <h2>ISO 10012:2003 Measurement Management System</h2>\n",
    "  <ul>\n",
    "    <li>Planning</li>\n",
    "    <li>Performance</li>\n",
    "    <li>Analysis</li>\n",
    "  </ul>\n",
    "</div>\n",
    "'''\n",
    "\n",
    "# Use the display function to render the menu\n",
    "display(HTML(menu_html))\n",
    "\n",
    "# Define the Markdown syntax for the planning section\n",
    "planning_md = '''\n",
    "# Planning\n",
    "\n",
    "## Quality Policy\n",
    "\n",
    "## Quality Objectives\n",
    "\n",
    "## Management Review\n",
    "'''\n",
    "\n",
    "# Define the Markdown syntax for the performance section\n",
    "performance_md = '''\n",
    "# Performance\n",
    "\n",
    "## Measurement Process\n",
    "\n",
    "## Measurement Equipment\n",
    "\n",
    "## Measurement Traceability\n",
    "'''\n",
    "\n",
    "# Define the Markdown syntax for the analysis section\n",
    "analysis_md = '''\n",
    "# Analysis\n",
    "\n",
    "## Data Analysis\n",
    "\n",
    "## Nonconformity Management\n",
    "\n",
    "## Corrective and Preventive Action\n",
    "'''\n",
    "\n",
    "# Use the display function to render the planning section\n",
    "display(Markdown(planning_md))\n",
    "\n",
    "# Use the display function to render the performance section\n",
    "display(Markdown(performance_md))\n",
    "\n",
    "# Use the display function to render the analysis section\n",
    "display(Markdown(analysis_md))\n",
    "\n",
    "# Commit and push changes to the repository\n",
    "!git add .\n",
    "!git commit -m \"Added web menu and web page for ISO 10012:2003 measurement management system\"\n",
    "!git push origin main\n"
   ]
  },
  {
   "cell_type": "code",
   "execution_count": null,
   "id": "5662f57c-404a-49f0-b485-b561d6c6b658",
   "metadata": {},
   "outputs": [],
   "source": []
  }
 ],
 "metadata": {
  "kernelspec": {
   "display_name": "",
   "name": ""
  },
  "language_info": {
   "name": ""
  }
 },
 "nbformat": 4,
 "nbformat_minor": 5
}
