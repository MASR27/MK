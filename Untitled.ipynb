{
 "cells": [
  {
   "cell_type": "code",
   "execution_count": 3,
   "id": "8394bff1-4e4e-437a-a97a-f5b9896fb6f1",
   "metadata": {
    "tags": []
   },
   "outputs": [
    {
     "data": {
      "text/html": [
       "\n",
       "<style>\n",
       "  .menu {\n",
       "    display: flex;\n",
       "    justify-content: space-between;\n",
       "    align-items: center;\n",
       "    padding: 10px;\n",
       "    background-color: #f2f2f2;\n",
       "  }\n",
       "  \n",
       "  .menu ul {\n",
       "    list-style: none;\n",
       "    margin: 0;\n",
       "    padding: 0;\n",
       "    display: flex;\n",
       "  }\n",
       "  \n",
       "  .menu ul li {\n",
       "    margin: 0 10px;\n",
       "    font-size: 18px;\n",
       "    font-weight: bold;\n",
       "    cursor: pointer;\n",
       "  }\n",
       "  \n",
       "  .menu ul li:hover {\n",
       "    color: #ff0000;\n",
       "  }\n",
       "</style>\n",
       "\n",
       "<div class=\"menu\">\n",
       "  <h2>ISO 10012:2003 Measurement Management System</h2>\n",
       "  <ul>\n",
       "    <li>Planning</li>\n",
       "    <li>Performance</li>\n",
       "    <li>Analysis</li>\n",
       "  </ul>\n",
       "</div>\n"
      ],
      "text/plain": [
       "<IPython.core.display.HTML object>"
      ]
     },
     "metadata": {},
     "output_type": "display_data"
    },
    {
     "data": {
      "text/markdown": [
       "\n",
       "# Planning\n",
       "\n",
       "## Quality Policy\n",
       "\n",
       "## Quality Objectives\n",
       "\n",
       "## Management Review\n"
      ],
      "text/plain": [
       "<IPython.core.display.Markdown object>"
      ]
     },
     "metadata": {},
     "output_type": "display_data"
    },
    {
     "data": {
      "text/markdown": [
       "\n",
       "# Performance\n",
       "\n",
       "## Measurement Process\n",
       "\n",
       "## Measurement Equipment\n",
       "\n",
       "## Measurement Traceability\n"
      ],
      "text/plain": [
       "<IPython.core.display.Markdown object>"
      ]
     },
     "metadata": {},
     "output_type": "display_data"
    },
    {
     "data": {
      "text/markdown": [
       "\n",
       "# Analysis\n",
       "\n",
       "## Data Analysis\n",
       "\n",
       "## Nonconformity Management\n",
       "\n",
       "## Corrective and Preventive Action\n"
      ],
      "text/plain": [
       "<IPython.core.display.Markdown object>"
      ]
     },
     "metadata": {},
     "output_type": "display_data"
    },
    {
     "name": "stdout",
     "output_type": "stream",
     "text": [
      "On branch main\n",
      "Your branch is up to date with 'origin/main'.\n",
      "\n",
      "nothing to commit, working tree clean\n",
      "Everything up-to-date\n"
     ]
    }
   ],
   "source": [
    "# Import necessary libraries\n",
    "import pandas as pd\n",
    "import matplotlib.pyplot as plt\n",
    "import numpy as np\n",
    "from IPython.display import display, HTML, Markdown\n",
    "\n",
    "# Define the sections of the measurement management system\n",
    "planning = ['Quality policy', 'Quality objectives', 'Management review']\n",
    "performance = ['Measurement process', 'Measurement equipment', 'Measurement traceability']\n",
    "analysis = ['Data analysis', 'Nonconformity management', 'Corrective and preventive action']\n",
    "\n",
    "# Define the HTML code for the menu\n",
    "menu_html = '''\n",
    "<style>\n",
    "  .menu {\n",
    "    display: flex;\n",
    "    justify-content: space-between;\n",
    "    align-items: center;\n",
    "    padding: 10px;\n",
    "    background-color: #f2f2f2;\n",
    "  }\n",
    "  \n",
    "  .menu ul {\n",
    "    list-style: none;\n",
    "    margin: 0;\n",
    "    padding: 0;\n",
    "    display: flex;\n",
    "  }\n",
    "  \n",
    "  .menu ul li {\n",
    "    margin: 0 10px;\n",
    "    font-size: 18px;\n",
    "    font-weight: bold;\n",
    "    cursor: pointer;\n",
    "  }\n",
    "  \n",
    "  .menu ul li:hover {\n",
    "    color: #ff0000;\n",
    "  }\n",
    "</style>\n",
    "\n",
    "<div class=\"menu\">\n",
    "  <h2>ISO 10012:2003 Measurement Management System</h2>\n",
    "  <ul>\n",
    "    <li>Planning</li>\n",
    "    <li>Performance</li>\n",
    "    <li>Analysis</li>\n",
    "  </ul>\n",
    "</div>\n",
    "'''\n",
    "\n",
    "# Use the display function to render the menu\n",
    "display(HTML(menu_html))\n",
    "\n",
    "# Define the Markdown syntax for the planning section\n",
    "planning_md = '''\n",
    "# Planning\n",
    "\n",
    "## Quality Policy\n",
    "\n",
    "## Quality Objectives\n",
    "\n",
    "## Management Review\n",
    "'''\n",
    "\n",
    "# Define the Markdown syntax for the performance section\n",
    "performance_md = '''\n",
    "# Performance\n",
    "\n",
    "## Measurement Process\n",
    "\n",
    "## Measurement Equipment\n",
    "\n",
    "## Measurement Traceability\n",
    "'''\n",
    "\n",
    "# Define the Markdown syntax for the analysis section\n",
    "analysis_md = '''\n",
    "# Analysis\n",
    "\n",
    "## Data Analysis\n",
    "\n",
    "## Nonconformity Management\n",
    "\n",
    "## Corrective and Preventive Action\n",
    "'''\n",
    "\n",
    "# Use the display function to render the planning section\n",
    "display(Markdown(planning_md))\n",
    "\n",
    "# Use the display function to render the performance section\n",
    "display(Markdown(performance_md))\n",
    "\n",
    "# Use the display function to render the analysis section\n",
    "display(Markdown(analysis_md))\n",
    "\n",
    "# Commit and push changes to the repository\n",
    "!git add .\n",
    "!git commit -m \"Added web menu and web page for ISO 10012:2003 measurement management system\"\n",
    "!git push origin main\n"
   ]
  },
  {
   "cell_type": "code",
   "execution_count": 2,
   "id": "5662f57c-404a-49f0-b485-b561d6c6b658",
   "metadata": {
    "tags": []
   },
   "outputs": [
    {
     "data": {
      "text/html": [
       "\n",
       "<style>\n",
       "  .menu {\n",
       "    display: flex;\n",
       "    justify-content: space-between;\n",
       "    align-items: center;\n",
       "    padding: 10px;\n",
       "    background-color: #f2f2f2;\n",
       "  }\n",
       "  \n",
       "  .menu ul {\n",
       "    list-style: none;\n",
       "    margin: 0;\n",
       "    padding: 0;\n",
       "    display: flex;\n",
       "  }\n",
       "  \n",
       "  .menu ul li {\n",
       "    margin: 0 10px;\n",
       "    font-size: 18px;\n",
       "    font-weight: bold;\n",
       "    cursor: pointer;\n",
       "  }\n",
       "  \n",
       "  .menu ul li:hover {\n",
       "    color: #ff0000;\n",
       "  }\n",
       "</style>\n",
       "\n",
       "<div class=\"menu\">\n",
       "  <h2>ISO 10012:2003 Measurement Management System</h2>\n",
       "  <ul>\n",
       "    <li>Planning</li>\n",
       "    <li>Performance</li>\n",
       "    <li>Analysis</li>\n",
       "  </ul>\n",
       "</div>\n"
      ],
      "text/plain": [
       "<IPython.core.display.HTML object>"
      ]
     },
     "metadata": {},
     "output_type": "display_data"
    },
    {
     "name": "stdout",
     "output_type": "stream",
     "text": [
      "[main 3314498] Added web menu for ISO 10012:2003 measurement management system\n",
      " 1 file changed, 255 insertions(+), 2 deletions(-)\n",
      "Enumerating objects: 5, done.\n",
      "Counting objects: 100% (5/5), done.\n",
      "Delta compression using up to 4 threads\n",
      "Compressing objects: 100% (3/3), done.\n",
      "Writing objects: 100% (3/3), 1.97 KiB | 1.97 MiB/s, done.\n",
      "Total 3 (delta 1), reused 0 (delta 0), pack-reused 0\n",
      "remote: Resolving deltas: 100% (1/1), completed with 1 local object.\u001b[K\n",
      "To https://github.com/MASR27/MK\n",
      "   7fa4a5f..3314498  main -> main\n"
     ]
    }
   ],
   "source": [
    "# Import necessary libraries\n",
    "import pandas as pd\n",
    "import matplotlib.pyplot as plt\n",
    "import numpy as np\n",
    "from IPython.display import display, HTML\n",
    "\n",
    "# Define the HTML code for the menu\n",
    "menu_html = '''\n",
    "<style>\n",
    "  .menu {\n",
    "    display: flex;\n",
    "    justify-content: space-between;\n",
    "    align-items: center;\n",
    "    padding: 10px;\n",
    "    background-color: #f2f2f2;\n",
    "  }\n",
    "  \n",
    "  .menu ul {\n",
    "    list-style: none;\n",
    "    margin: 0;\n",
    "    padding: 0;\n",
    "    display: flex;\n",
    "  }\n",
    "  \n",
    "  .menu ul li {\n",
    "    margin: 0 10px;\n",
    "    font-size: 18px;\n",
    "    font-weight: bold;\n",
    "    cursor: pointer;\n",
    "  }\n",
    "  \n",
    "  .menu ul li:hover {\n",
    "    color: #ff0000;\n",
    "  }\n",
    "</style>\n",
    "\n",
    "<div class=\"menu\">\n",
    "  <h2>ISO 10012:2003 Measurement Management System</h2>\n",
    "  <ul>\n",
    "    <li>Planning</li>\n",
    "    <li>Performance</li>\n",
    "    <li>Analysis</li>\n",
    "  </ul>\n",
    "</div>\n",
    "'''\n",
    "\n",
    "# Use the display function to render the menu\n",
    "display(HTML(menu_html))\n",
    "\n",
    "# Commit and push changes to the repository\n",
    "!git add .\n",
    "!git commit -m \"Added web menu for ISO 10012:2003 measurement management system\"\n",
    "!git push origin main\n"
   ]
  },
  {
   "cell_type": "code",
   "execution_count": null,
   "id": "f6aa4225-b8d7-4765-a3bc-409db2f17f5e",
   "metadata": {},
   "outputs": [],
   "source": []
  }
 ],
 "metadata": {
  "kernelspec": {
   "display_name": "Python 3 (ipykernel)",
   "language": "python",
   "name": "python3"
  },
  "language_info": {
   "codemirror_mode": {
    "name": "ipython",
    "version": 3
   },
   "file_extension": ".py",
   "mimetype": "text/x-python",
   "name": "python",
   "nbconvert_exporter": "python",
   "pygments_lexer": "ipython3",
   "version": "3.10.4"
  }
 },
 "nbformat": 4,
 "nbformat_minor": 5
}
